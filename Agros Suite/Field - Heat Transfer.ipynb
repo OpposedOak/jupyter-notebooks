{
 "cells": [
  {
   "cell_type": "code",
   "execution_count": 6,
   "metadata": {},
   "outputs": [],
   "source": [
    "# import Agros Suite\n",
    "from agrossuite import agros\n",
    "import agrossuite.vtk_tools as vtk_tools"
   ]
  },
  {
   "cell_type": "code",
   "execution_count": 7,
   "metadata": {},
   "outputs": [
    {
     "data": {
      "text/plain": [
       "14"
      ]
     },
     "execution_count": 7,
     "metadata": {},
     "output_type": "execute_result"
    }
   ],
   "source": [
    "# problem\n",
    "problem = agros.problem(clear = True)\n",
    "problem.coordinate_type = \"planar\"\n",
    "problem.mesh_type = \"triangle\"\n",
    "# fields\n",
    "# heat\n",
    "heat = problem.field(\"heat\")\n",
    "heat.analysis_type = \"steadystate\"\n",
    "heat.number_of_refinements = 0\n",
    "heat.polynomial_order = 1\n",
    "heat.solver = \"linear\"\n",
    "\n",
    "# boundaries\n",
    "heat.add_boundary(\"Exterior\", \"heat_heat_flux\", {\"heat_convection_external_temperature\" : 258, \"heat_convection_heat_transfer_coefficient\" : 25, \"heat_heat_flux\" : 0, \"heat_radiation_ambient_temperature\" : 0, \"heat_radiation_emissivity\" : 0})\n",
    "heat.add_boundary(\"Interior\", \"heat_heat_flux\", {\"heat_convection_external_temperature\" : 294, \"heat_convection_heat_transfer_coefficient\" : 4, \"heat_heat_flux\" : 0, \"heat_radiation_ambient_temperature\" : 0, \"heat_radiation_emissivity\" : 0})\n",
    "heat.add_boundary(\"Border\", \"heat_heat_flux\", {\"heat_convection_external_temperature\" : 0, \"heat_convection_heat_transfer_coefficient\" : 0, \"heat_heat_flux\" : 0, \"heat_radiation_ambient_temperature\" : 0, \"heat_radiation_emissivity\" : 0})\n",
    "\n",
    "# materials\n",
    "heat.add_material(\"Zdici prvky SENDWIX tl. 240 kontakt\", {\"heat_conductivity\" : 0.418, \"heat_density\" : 0, \"heat_specific_heat\" : 0, \"heat_velocity_angular\" : 0, \"heat_velocity_x\" : 0, \"heat_velocity_y\" : 0, \"heat_volume_heat\" : 0})\n",
    "heat.add_material(\"Izolace Rockwool Fasrock L\", {\"heat_conductivity\" : 0.042, \"heat_density\" : 0, \"heat_specific_heat\" : 0, \"heat_velocity_angular\" : 0, \"heat_velocity_x\" : 0, \"heat_velocity_y\" : 0, \"heat_volume_heat\" : 0})\n",
    "heat.add_material(\"Flexibilni pena\", {\"heat_conductivity\" : 0.036, \"heat_density\" : 0, \"heat_specific_heat\" : 0, \"heat_velocity_angular\" : 0, \"heat_velocity_x\" : 0, \"heat_velocity_y\" : 0, \"heat_volume_heat\" : 0})\n",
    "heat.add_material(\"Naslapna vrstva podlahy\", {\"heat_conductivity\" : 1.01, \"heat_density\" : 0, \"heat_specific_heat\" : 0, \"heat_velocity_angular\" : 0, \"heat_velocity_x\" : 0, \"heat_velocity_y\" : 0, \"heat_volume_heat\" : 0})\n",
    "heat.add_material(\"Krocejova vrstva izolace - Rockwool Steprock ND tl.40mm\", {\"heat_conductivity\" : 0.037, \"heat_density\" : 0, \"heat_specific_heat\" : 0, \"heat_velocity_angular\" : 0, \"heat_velocity_x\" : 0, \"heat_velocity_y\" : 0, \"heat_volume_heat\" : 0})\n",
    "heat.add_material(\"Stropní konstrukce Rector tl. 200 mm\", {\"heat_conductivity\" : 1.58, \"heat_density\" : 0, \"heat_specific_heat\" : 0, \"heat_velocity_angular\" : 0, \"heat_velocity_x\" : 0, \"heat_velocity_y\" : 0, \"heat_volume_heat\" : 0})\n",
    "heat.add_material(\"Vapenopiskovy preklad Sendwix 2DF\", {\"heat_conductivity\" : 0.671, \"heat_density\" : 0, \"heat_specific_heat\" : 0, \"heat_velocity_angular\" : 0, \"heat_velocity_x\" : 0, \"heat_velocity_y\" : 0, \"heat_volume_heat\" : 0})\n",
    "heat.add_material(\"Armovaci vrstva Cermix flex T + armovaci mriz 5 mm\", {\"heat_conductivity\" : 0.57, \"heat_density\" : 0, \"heat_specific_heat\" : 0, \"heat_velocity_angular\" : 0, \"heat_velocity_x\" : 0, \"heat_velocity_y\" : 0, \"heat_volume_heat\" : 0})\n",
    "heat.add_material(\"Tenkovrstva silikonova omitka Cermix 2 mm\", {\"heat_conductivity\" : 0.57, \"heat_density\" : 0, \"heat_specific_heat\" : 0, \"heat_velocity_angular\" : 0, \"heat_velocity_x\" : 0, \"heat_velocity_y\" : 0, \"heat_volume_heat\" : 0})\n",
    "heat.add_material(\"Jednovrstva omitka Cemix 073 tl. 8 mm\", {\"heat_conductivity\" : 0.47, \"heat_density\" : 0, \"heat_specific_heat\" : 0, \"heat_velocity_angular\" : 0, \"heat_velocity_x\" : 0, \"heat_velocity_y\" : 0, \"heat_volume_heat\" : 0})\n",
    "heat.add_material(\"Sklo\", {\"heat_conductivity\" : 0.14, \"heat_density\" : 0, \"heat_specific_heat\" : 0, \"heat_velocity_angular\" : 0, \"heat_velocity_x\" : 0, \"heat_velocity_y\" : 0, \"heat_volume_heat\" : 0})\n",
    "heat.add_material(\"Betonovy zaklad\", {\"heat_conductivity\" : 1.23, \"heat_density\" : 0, \"heat_specific_heat\" : 0, \"heat_velocity_angular\" : 0, \"heat_velocity_x\" : 0, \"heat_velocity_y\" : 0, \"heat_volume_heat\" : 0})\n",
    "\n",
    "# geometry\n",
    "geometry = problem.geometry()\n",
    "geometry.add_edge(0.496656, 1.70001, 0.496656, 0.607324)\n",
    "geometry.add_edge(0.696656, 0.637324, 0.866656, 0.637324, boundaries = {\"heat\" : \"Interior\"})\n",
    "geometry.add_edge(0.866656, 0.637324, 0.866656, 0.877324, boundaries = {\"heat\" : \"Interior\"})\n",
    "geometry.add_edge(0.696656, 0.647324, 0.856656, 0.647324)\n",
    "geometry.add_edge(0.696656, 0.637324, 0.696656, 0.647324)\n",
    "geometry.add_edge(0.616656, 0.607324, 0.496656, 0.607324)\n",
    "geometry.add_edge(0.616656, 0.637324, 0.696656, 0.637324)\n",
    "geometry.add_edge(0.696656, 0.26741, 0.696656, 0.637324, boundaries = {\"heat\" : \"Interior\"})\n",
    "geometry.add_edge(0.616656, 0.26741, 0.616656, 0.600324, boundaries = {\"heat\" : \"Exterior\"})\n",
    "geometry.add_edge(0.616656, 0.607324, 0.616656, 0.637324)\n",
    "geometry.add_edge(0.866656, 0.877324, 1.93688, 0.877324, boundaries = {\"heat\" : \"Interior\"})\n",
    "geometry.add_edge(0.866656, 1.70001, 0.866656, 1.27932, boundaries = {\"heat\" : \"Interior\"})\n",
    "geometry.add_edge(0.866656, 1.08732, 0.866656, 1.18732)\n",
    "geometry.add_edge(0.866656, 1.18732, 0.866656, 1.27932)\n",
    "geometry.add_edge(1.93688, 1.18732, 0.876656, 1.18732)\n",
    "geometry.add_edge(1.93688, 1.19932, 0.878656, 1.19932, boundaries = {\"heat\" : \"Interior\"})\n",
    "geometry.add_edge(0.876656, 1.12732, 1.93688, 1.12732)\n",
    "geometry.add_edge(1.93688, 1.19032, 0.869656, 1.19032)\n",
    "geometry.add_edge(0.876656, 1.18732, 0.866656, 1.18732)\n",
    "geometry.add_edge(0.876656, 1.18732, 0.876656, 1.12732)\n",
    "geometry.add_edge(0.869656, 1.27932, 0.869656, 1.19932)\n",
    "geometry.add_edge(0.878656, 1.27932, 0.878656, 1.19932, boundaries = {\"heat\" : \"Interior\"})\n",
    "geometry.add_edge(0.869656, 1.19932, 0.869656, 1.19032)\n",
    "geometry.add_edge(0.866656, 1.27932, 0.869656, 1.27932, boundaries = {\"heat\" : \"Interior\"})\n",
    "geometry.add_edge(0.869656, 1.27932, 0.878656, 1.27932, boundaries = {\"heat\" : \"Interior\"})\n",
    "geometry.add_edge(0.494156, 1.70001, 0.494156, 0.604824)\n",
    "geometry.add_edge(0.491656, 1.70001, 0.491656, 0.602324)\n",
    "geometry.add_edge(0.616656, 0.604824, 0.616656, 0.607324)\n",
    "geometry.add_edge(0.616656, 0.604824, 0.494156, 0.604824)\n",
    "geometry.add_edge(0.616656, 0.602324, 0.616656, 0.604824)\n",
    "geometry.add_edge(0.616656, 0.602324, 0.491656, 0.602324)\n",
    "geometry.add_edge(0.616656, 0.600324, 0.616656, 0.602324)\n",
    "geometry.add_edge(0.616656, 0.600324, 0.489656, 0.600324, boundaries = {\"heat\" : \"Exterior\"})\n",
    "geometry.add_edge(0.489656, 1.70001, 0.489656, 0.600324, boundaries = {\"heat\" : \"Exterior\"})\n",
    "geometry.add_edge(0.616656, 0.26741, 0.696656, 0.26741, boundaries = {\"heat\" : \"Border\"})\n",
    "geometry.add_edge(1.93688, 1.19932, 1.93688, 1.19032, boundaries = {\"heat\" : \"Border\"})\n",
    "geometry.add_edge(1.93688, 1.19032, 1.93688, 1.18732, boundaries = {\"heat\" : \"Border\"})\n",
    "geometry.add_edge(1.93688, 1.18732, 1.93688, 1.12732, boundaries = {\"heat\" : \"Border\"})\n",
    "geometry.add_edge(1.93688, 1.12732, 1.93688, 1.08732, boundaries = {\"heat\" : \"Border\"})\n",
    "geometry.add_edge(1.93688, 1.08732, 1.93688, 0.887324, boundaries = {\"heat\" : \"Border\"})\n",
    "geometry.add_edge(1.93688, 0.887324, 1.93688, 0.877324, boundaries = {\"heat\" : \"Border\"})\n",
    "geometry.add_edge(0.489656, 1.70001, 0.491656, 1.70001, boundaries = {\"heat\" : \"Border\"})\n",
    "geometry.add_edge(0.491656, 1.70001, 0.494156, 1.70001, boundaries = {\"heat\" : \"Border\"})\n",
    "geometry.add_edge(0.494156, 1.70001, 0.496656, 1.70001, boundaries = {\"heat\" : \"Border\"})\n",
    "geometry.add_edge(0.496656, 1.70001, 0.616656, 1.70001, boundaries = {\"heat\" : \"Border\"})\n",
    "geometry.add_edge(0.616656, 1.70001, 0.856656, 1.70001, boundaries = {\"heat\" : \"Border\"})\n",
    "geometry.add_edge(0.856656, 1.70001, 0.866656, 1.70001, boundaries = {\"heat\" : \"Border\"})\n",
    "geometry.add_edge(0.866656, 1.08732, 1.93688, 1.08732)\n",
    "geometry.add_edge(0.616656, 1.08732, 0.856656, 1.08732)\n",
    "geometry.add_edge(0.856656, 1.08732, 0.866656, 1.08732)\n",
    "geometry.add_edge(0.616656, 1.08732, 0.616656, 1.70001)\n",
    "geometry.add_edge(0.856656, 1.08732, 0.856656, 1.70001)\n",
    "geometry.add_edge(0.616656, 1.08732, 0.616656, 0.887324)\n",
    "geometry.add_edge(0.616656, 0.887324, 0.616656, 0.647324)\n",
    "geometry.add_edge(0.856656, 0.887324, 0.616656, 0.887324)\n",
    "geometry.add_edge(0.856656, 0.887324, 0.856656, 0.647324)\n",
    "geometry.add_edge(0.856656, 0.887324, 1.93688, 0.887324)\n",
    "geometry.add_edge(0.616656, 0.647324, 0.616656, 0.637324)\n",
    "geometry.add_edge(0.616656, 0.647324, 0.696656, 0.647324)\n",
    "\n",
    "geometry.add_label(0.548642, 1.52308, materials = {\"heat\" : \"Izolace Rockwool Fasrock L\"})\n",
    "geometry.add_label(0.72758, 1.53842, materials = {\"heat\" : \"Zdici prvky SENDWIX tl. 240 kontakt\"})\n",
    "geometry.add_label(0.974686, 1.15327, materials = {\"heat\" : \"Betonovy zaklad\"})\n",
    "geometry.add_label(1.18089, 1.11067, materials = {\"heat\" : \"Krocejova vrstva izolace - Rockwool Steprock ND tl.40mm\"})\n",
    "geometry.add_label(0.979798, 1.02376, materials = {\"heat\" : \"Stropní konstrukce Rector tl. 200 mm\"})\n",
    "geometry.add_label(1.20089, 0.883511, materials = {\"heat\" : \"Jednovrstva omitka Cemix 073 tl. 8 mm\"})\n",
    "geometry.add_label(0.740474, 0.801808, materials = {\"heat\" : \"Vapenopiskovy preklad Sendwix 2DF\"})\n",
    "geometry.add_label(0.653573, 0.545525, area = 0.001, materials = {\"heat\" : \"Sklo\"})\n",
    "geometry.add_label(0.677139, 0.645682, materials = {\"heat\" : \"Flexibilni pena\"})\n",
    "geometry.add_label(0.490513, 1.26727, materials = {\"heat\" : \"Tenkovrstva silikonova omitka Cermix 2 mm\"})\n",
    "geometry.add_label(0.493158, 1.25838, materials = {\"heat\" : \"Armovaci vrstva Cermix flex T + armovaci mriz 5 mm\"})\n",
    "geometry.add_label(0.495586, 1.24928, materials = {\"heat\" : \"Armovaci vrstva Cermix flex T + armovaci mriz 5 mm\"})\n",
    "geometry.add_label(0.868425, 1.25275, materials = {\"heat\" : \"Naslapna vrstva podlahy\"})\n",
    "geometry.add_label(0.874732, 1.21192, materials = {\"heat\" : \"Naslapna vrstva podlahy\"})\n",
    "geometry.add_label(0.862434, 1.22563, materials = {\"heat\" : \"Jednovrstva omitka Cemix 073 tl. 8 mm\"})"
   ]
  },
  {
   "cell_type": "code",
   "execution_count": 8,
   "metadata": {},
   "outputs": [],
   "source": [
    "computation = problem.computation()\n",
    "computation.solve()"
   ]
  },
  {
   "cell_type": "code",
   "execution_count": 9,
   "metadata": {},
   "outputs": [
    {
     "data": {
      "image/png": "[encoded data removed]",
      "text/plain": [
       "<IPython.core.display.Image object>"
      ]
     },
     "execution_count": 9,
     "metadata": {},
     "output_type": "execute_result"
    }
   ],
   "source": [
    "file_name_geometry = \"data/HeatGeometry.vtk\"\n",
    "problem.geometry().export_vtk(file_name_geometry)\n",
    "\n",
    "file_name_scalar = \"data/HeatScalar.vtk\"\n",
    "solution = computation.solution(\"heat\")\n",
    "solution.export_vtk(file_name_scalar, 0, 0, \"heat_temperature_degrees\", \"scalar\")\n",
    "\n",
    "geometry = vtk_tools.vtk_geometry_actor(file_name_geometry)\n",
    "scalar = vtk_tools.vtk_scalar_actor(file_name_scalar)\n",
    "contours = vtk_tools.vtk_contours_actor(file_name_scalar)\n",
    "\n",
    "vtk_tools.vtk_figure(geometry=geometry, scalar=scalar, contours=contours)"
   ]
  },
  {
   "cell_type": "code",
   "execution_count": null,
   "metadata": {},
   "outputs": [],
   "source": []
  }
 ],
 "metadata": {
  "kernelspec": {
   "display_name": "Python 3",
   "language": "python",
   "name": "python3"
  },
  "language_info": {
   "codemirror_mode": {
    "name": "ipython",
    "version": 3
   },
   "file_extension": ".py",
   "mimetype": "text/x-python",
   "name": "python",
   "nbconvert_exporter": "python",
   "pygments_lexer": "ipython3",
   "version": "3.8.2"
  }
 },
 "nbformat": 4,
 "nbformat_minor": 4
}
