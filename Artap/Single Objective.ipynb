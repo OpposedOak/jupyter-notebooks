{
 "cells": [
  {
   "cell_type": "markdown",
   "metadata": {},
   "source": [
    "This example shows how to use Artap to solve a simple mathematical, single objective optimization problem.\n",
    "The understanding of this problem doesn't need any physical knowledge.\n",
    "\n",
    "Problem:\n",
    "--------\n",
    "\n",
    "A spyder, S, sits in one corner of a cuboid room, measuring 'H' by 'W' by 'L', and a fly, F, sits in the opposite\n",
    "corner. By travelling on the surfaces of the room the, what is the shortest “straight line” distance from S to F?\n",
    "\n",
    "The problem formulated as a single optimization problem, free optimization problem (without constraints)\n",
    "\n",
    "Problem parameters are the edges of the cuboid: H, W, L"
   ]
  },
  {
   "cell_type": "code",
   "execution_count": 1,
   "metadata": {},
   "outputs": [],
   "source": [
    "from artap.problem import Problem\n",
    "from artap.results import Results\n",
    "from artap.algorithm_scipy import ScipyOpt\n",
    "\n",
    "\n",
    "class ArtapProblem(Problem):\n",
    "    \"\"\"\n",
    "    The solution of this problem needs to find the minimum of a one parametered (x_1) goal function.\n",
    "    The problem solved, by the Nelder-Mead method, therefore an initial value has to be defined, anyway it is set to 0.\n",
    "    \"\"\"\n",
    "\n",
    "    def set(self):\n",
    "        # wall lengths defined as global parameters\n",
    "        self.H = 1.\n",
    "        self.W = 1.\n",
    "        self.L = 1.\n",
    "\n",
    "        self.name = \"spyder on the wall\"\n",
    "        self.parameters = [{'name': 'x_1', 'initial_value': 0.1, 'bounds': [0.0, 0.9]}]\n",
    "        self.costs = [{'name': 'F_1'}]\n",
    "\n",
    "    def evaluate(self, individual):\n",
    "        # this function should be rewritten to define the optimization task\n",
    "        # every individual contains a vector of parameters, which contains the previously defined problem parameters\n",
    "        # in the given order\n",
    "        x = individual.vector\n",
    "\n",
    "        # the goal function\n",
    "        F1 = (x[0] ** 2. + self.H ** 2.) ** 0.5 + ((self.W - x[0]) ** 2. + self.L ** 2.) ** 0.5\n",
    "\n",
    "        # the evaluate function should give back a list of the calculated objective values, following the defined\n",
    "        # order in set(Problem) in this case --> ['F1']\n",
    "        return [F1]"
   ]
  },
  {
   "cell_type": "code",
   "execution_count": 2,
   "metadata": {},
   "outputs": [
    {
     "name": "stderr",
     "output_type": "stream",
     "text": [
      "2020-09-15 14:05:57,877 (INFO): ArtapProblem-874280 - run (32) - ScipyOpt: Nelder-Mead\n",
      "2020-09-15 14:05:57,882 (INFO): ArtapProblem-874280 - run (36) - ScipyOpt: elapsed time: 0.004948139190673828 s\n"
     ]
    }
   ],
   "source": [
    "# Optimization with Nelder-Mead\n",
    "problem_nlm = ArtapProblem()\n",
    "\n",
    "# set the optimization method\n",
    "algorithm_nlm = ScipyOpt(problem_nlm)\n",
    "algorithm_nlm.options['algorithm'] = 'Nelder-Mead'\n",
    "algorithm_nlm.options['tol'] = 1e-3\n",
    "\n",
    "# perform the optimization\n",
    "algorithm_nlm.run()"
   ]
  },
  {
   "cell_type": "code",
   "execution_count": 6,
   "metadata": {},
   "outputs": [
    {
     "name": "stdout",
     "output_type": "stream",
     "text": [
      "The exact value of the optimization is at x_1 = 0.5\n",
      "Optimal solution (Nelder-Mead):\n"
     ]
    }
   ],
   "source": [
    "results_nlm = Results(problem_nlm)\n",
    "\n",
    "opt = results_nlm.find_optimum('F_1')\n",
    "\n",
    "print('The exact value of the optimization is at x_1 = 0.5')\n",
    "print('Optimal solution (Nelder-Mead):'.format(opt))"
   ]
  },
  {
   "cell_type": "code",
   "execution_count": 7,
   "metadata": {},
   "outputs": [
    {
     "data": {
      "text/plain": [
       "{-1: [vector: [0.]; costs:[2.35034996681946],\n",
       "  vector: [0.1050000000000000]; costs:[2.3475201164354225],\n",
       "  vector: [0.1100000000000000]; costs:[2.3447252014697506],\n",
       "  vector: [0.1150000000000000]; costs:[2.3419652601170213],\n",
       "  vector: [0.1250000000000000]; costs:[2.3365504451291494],\n",
       "  vector: [0.1350000000000001]; costs:[2.331275953645517],\n",
       "  vector: [0.155000000000000]; costs:[2.321148979543417],\n",
       "  vector: [0.1750000000000002]; costs:[2.3115862414587647],\n",
       "  vector: [0.215000000000000]; costs:[2.294159787765005],\n",
       "  vector: [0.2550000000000005]; costs:[2.2790068998764603],\n",
       "  vector: [0.3350000000000008]; costs:[2.2555475104185896],\n",
       "  vector: [0.4150000000000011]; costs:[2.2412377460257717],\n",
       "  vector: [0.575000000000001]; costs:[2.2400928901109696],\n",
       "  vector: [0.735000000000002]; costs:[2.275574811788584],\n",
       "  vector: [0.735000000000002]; costs:[2.275574811788584],\n",
       "  vector: [0.4950000000000014]; costs:[2.2360858660436085],\n",
       "  vector: [0.4150000000000011]; costs:[2.2412377460257717],\n",
       "  vector: [0.535000000000001]; costs:[2.236944516046023],\n",
       "  vector: [0.455000000000001]; costs:[2.2375169490934295],\n",
       "  vector: [0.515000000000001]; costs:[2.2362289743935437]]}"
      ]
     },
     "execution_count": 7,
     "metadata": {},
     "output_type": "execute_result"
    }
   ],
   "source": [
    "results_nlm.problem.populations()"
   ]
  }
 ],
 "metadata": {
  "kernelspec": {
   "display_name": "Python 3",
   "language": "python",
   "name": "python3"
  },
  "language_info": {
   "codemirror_mode": {
    "name": "ipython",
    "version": 3
   },
   "file_extension": ".py",
   "mimetype": "text/x-python",
   "name": "python",
   "nbconvert_exporter": "python",
   "pygments_lexer": "ipython3",
   "version": "3.8.2"
  }
 },
 "nbformat": 4,
 "nbformat_minor": 4
}
