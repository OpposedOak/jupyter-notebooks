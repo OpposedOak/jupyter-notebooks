{
 "cells": [
  {
   "cell_type": "markdown",
   "metadata": {},
   "source": [
    "This example shows how to use Artap to solve a simple mathematical, single objective optimization problem.\n",
    "The understanding of this problem doesn't need any physical knowledge.\n",
    "\n",
    "Problem:\n",
    "--------\n",
    "\n",
    "A spyder, S, sits in one corner of a cuboid room, measuring 'H' by 'W' by 'L', and a fly, F, sits in the opposite\n",
    "corner. By travelling on the surfaces of the room the, what is the shortest “straight line” distance from S to F?\n",
    "\n",
    "The problem formulated as a single optimization problem, free optimization problem (without constraints)\n",
    "\n",
    "Problem parameters are the edges of the cuboid: H, W, L"
   ]
  },
  {
   "cell_type": "code",
   "execution_count": 1,
   "metadata": {},
   "outputs": [],
   "source": [
    "import pylab as pl\n",
    "\n",
    "from artap.problem import Problem\n",
    "from artap.results import Results\n",
    "from artap.algorithm_scipy import ScipyOpt\n",
    "\n",
    "class ArtapProblem(Problem):\n",
    "    \"\"\"\n",
    "    The solution of this problem needs to find the minimum of a one parametered (x_1) goal function.\n",
    "    The problem solved, by the Nelder-Mead method, therefore an initial value has to be defined, anyway it is set to 0.\n",
    "    \"\"\"\n",
    "\n",
    "    def set(self):\n",
    "        # wall lengths defined as global parameters\n",
    "        self.H = 1.\n",
    "        self.W = 1.\n",
    "        self.L = 1.\n",
    "\n",
    "        self.name = \"spyder on the wall\"\n",
    "        self.parameters = [{'name': 'x_1', 'initial_value': 0.1, 'bounds': [0.0, 0.9]}]\n",
    "        self.costs = [{'name': 'F_1'}]\n",
    "\n",
    "    def evaluate(self, individual):\n",
    "        # this function should be rewritten to define the optimization task\n",
    "        # every individual contains a vector of parameters, which contains the previously defined problem parameters\n",
    "        # in the given order\n",
    "        x = individual.vector\n",
    "\n",
    "        # the goal function\n",
    "        F1 = (x[0] ** 2. + self.H ** 2.) ** 0.5 + ((self.W - x[0]) ** 2. + self.L ** 2.) ** 0.5\n",
    "\n",
    "        # the evaluate function should give back a list of the calculated objective values, following the defined\n",
    "        # order in set(Problem) in this case --> ['F1']\n",
    "        return [F1]"
   ]
  },
  {
   "cell_type": "code",
   "execution_count": 2,
   "metadata": {},
   "outputs": [
    {
     "name": "stderr",
     "output_type": "stream",
     "text": [
      "2021-04-03 17:38:53,989 (INFO): ArtapProblem-987692 - run (33) - ScipyOpt: Nelder-Mead\n",
      "2021-04-03 17:38:53,992 (INFO): ArtapProblem-987692 - run (38) - ScipyOpt: elapsed time: 0.0033445358276367188 s\n"
     ]
    }
   ],
   "source": [
    "# Optimization with Nelder-Mead\n",
    "problem_nlm = ArtapProblem()\n",
    "\n",
    "# set the optimization method\n",
    "algorithm_nlm = ScipyOpt(problem_nlm)\n",
    "algorithm_nlm.options['algorithm'] = 'Nelder-Mead'\n",
    "algorithm_nlm.options['tol'] = 1e-3\n",
    "\n",
    "# perform the optimization\n",
    "algorithm_nlm.run()"
   ]
  },
  {
   "cell_type": "code",
   "execution_count": 3,
   "metadata": {},
   "outputs": [
    {
     "name": "stdout",
     "output_type": "stream",
     "text": [
      "The exact value of the optimization is at x_1 = 0.5\n",
      "Optimal solution (Nelder-Mead):\n"
     ]
    }
   ],
   "source": [
    "results_nlm = Results(problem_nlm)\n",
    "\n",
    "opt = results_nlm.find_optimum('F_1')\n",
    "\n",
    "print('The exact value of the optimization is at x_1 = 0.5')\n",
    "print('Optimal solution (Nelder-Mead):'.format(opt))"
   ]
  },
  {
   "cell_type": "code",
   "execution_count": 4,
   "metadata": {},
   "outputs": [
    {
     "data": {
      "text/plain": [
       "[[0, 1, 2, 3, 4, 5, 6, 7, 8, 9, 10, 11, 12, 13, 14, 15, 16, 17, 18, 19],\n",
       " [0.1,\n",
       "  0.10500000000000001,\n",
       "  0.11000000000000001,\n",
       "  0.11500000000000005,\n",
       "  0.12500000000000008,\n",
       "  0.13500000000000012,\n",
       "  0.1550000000000002,\n",
       "  0.17500000000000027,\n",
       "  0.2150000000000004,\n",
       "  0.25500000000000056,\n",
       "  0.33500000000000085,\n",
       "  0.41500000000000115,\n",
       "  0.5750000000000017,\n",
       "  0.7350000000000023,\n",
       "  0.7350000000000023,\n",
       "  0.49500000000000144,\n",
       "  0.41500000000000115,\n",
       "  0.5350000000000016,\n",
       "  0.4550000000000013,\n",
       "  0.5150000000000015]]"
      ]
     },
     "execution_count": 4,
     "metadata": {},
     "output_type": "execute_result"
    }
   ],
   "source": [
    "results_nlm.parameter_on_index('x_1')"
   ]
  },
  {
   "cell_type": "code",
   "execution_count": 5,
   "metadata": {},
   "outputs": [
    {
     "data": {
      "text/plain": [
       "[[0.1,\n",
       "  0.10500000000000001,\n",
       "  0.11000000000000001,\n",
       "  0.11500000000000005,\n",
       "  0.12500000000000008,\n",
       "  0.13500000000000012,\n",
       "  0.1550000000000002,\n",
       "  0.17500000000000027,\n",
       "  0.2150000000000004,\n",
       "  0.25500000000000056,\n",
       "  0.33500000000000085,\n",
       "  0.41500000000000115,\n",
       "  0.5750000000000017,\n",
       "  0.7350000000000023,\n",
       "  0.7350000000000023,\n",
       "  0.49500000000000144,\n",
       "  0.41500000000000115,\n",
       "  0.5350000000000016,\n",
       "  0.4550000000000013,\n",
       "  0.5150000000000015],\n",
       " [2.35034996681946,\n",
       "  2.3475201164354225,\n",
       "  2.3447252014697506,\n",
       "  2.3419652601170213,\n",
       "  2.3365504451291494,\n",
       "  2.331275953645517,\n",
       "  2.321148979543417,\n",
       "  2.3115862414587647,\n",
       "  2.294159787765005,\n",
       "  2.2790068998764603,\n",
       "  2.2555475104185896,\n",
       "  2.2412377460257717,\n",
       "  2.2400928901109696,\n",
       "  2.275574811788584,\n",
       "  2.275574811788584,\n",
       "  2.2360858660436085,\n",
       "  2.2412377460257717,\n",
       "  2.236944516046023,\n",
       "  2.2375169490934295,\n",
       "  2.2362289743935437]]"
      ]
     },
     "execution_count": 5,
     "metadata": {},
     "output_type": "execute_result"
    }
   ],
   "source": [
    "values = results_nlm.goal_on_parameter('x_1', 'F_1')\n",
    "values"
   ]
  },
  {
   "cell_type": "code",
   "execution_count": 7,
   "metadata": {},
   "outputs": [
    {
     "data": {
      "text/plain": [
       "<matplotlib.collections.PathCollection at 0x7f3161148610>"
      ]
     },
     "execution_count": 7,
     "metadata": {},
     "output_type": "execute_result"
    },
    {
     "data": {
      "image/png": "[encoded data removed]",
      "text/plain": [
       "<Figure size 432x288 with 1 Axes>"
      ]
     },
     "metadata": {
      "needs_background": "light"
     },
     "output_type": "display_data"
    }
   ],
   "source": [
    "pl.scatter(values[0], values[1])"
   ]
  },
  {
   "cell_type": "code",
   "execution_count": null,
   "metadata": {},
   "outputs": [],
   "source": []
  }
 ],
 "metadata": {
  "kernelspec": {
   "display_name": "Python 3",
   "language": "python",
   "name": "python3"
  },
  "language_info": {
   "codemirror_mode": {
    "name": "ipython",
    "version": 3
   },
   "file_extension": ".py",
   "mimetype": "text/x-python",
   "name": "python",
   "nbconvert_exporter": "python",
   "pygments_lexer": "ipython3",
   "version": "3.8.10"
  }
 },
 "nbformat": 4,
 "nbformat_minor": 4
}
