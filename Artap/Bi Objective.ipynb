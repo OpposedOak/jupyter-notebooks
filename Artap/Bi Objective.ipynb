{
 "cells": [
  {
   "cell_type": "markdown",
   "metadata": {},
   "source": [
    "The goal of this example to show, how we can use Artap to solve a simple,\n",
    "bi-objective optimization problem.\n",
    "\n",
    "The problem is defined in the following way [GDE3]:\n",
    "\n",
    "Minimize f1 = x1\n",
    "Minimize f2 = (1+x2) / x1\n",
    "\n",
    "subject to\n",
    "        x1 e [0.1, 1]\n",
    "        x2 e [0, 5]\n",
    "\n",
    "The Pareto - front of the following problem is known, it is a simple\n",
    "hyperbola. This problem is very simple for an Evolutionary algorithm, it finds its solution within 20-30 generations.\n",
    "NSGA - II algorithm is used to solve this example.\n",
    "\n",
    "References\n",
    "----------\n",
    "\n",
    ".: [GDE3] The third Evolution Step of Generalized Differential Evolution\n",
    "Saku Kukkonen, Jouni Lampinen"
   ]
  },
  {
   "cell_type": "code",
   "execution_count": 1,
   "metadata": {},
   "outputs": [],
   "source": [
    "from artap.problem import Problem\n",
    "from artap.algorithm_genetic import NSGAII\n",
    "from artap.results import Results"
   ]
  },
  {
   "cell_type": "code",
   "execution_count": 2,
   "metadata": {},
   "outputs": [],
   "source": [
    "class BiObjectiveTestProblem(Problem):\n",
    "    def set(self):\n",
    "        # Not mandatory to give a name for the test problem\n",
    "        self.name = 'Biobjective Test Problem'\n",
    "        self.working_dir = '.'\n",
    "        # Defines x_1 and x_2, which are the optimized parameters\n",
    "        # and the bounds 'defines' the constraints of the optimization problem\n",
    "        # nsga -- ii algorithm doesn't need an initial value for the definition\n",
    "        self.parameters = [{'name': 'x_1', 'bounds': [0.1, 1.]},\n",
    "                           {'name': 'x_2', 'bounds': [0.0, 5.0]}]\n",
    "\n",
    "        # The two, separate optimization functions and the direction of the optimization\n",
    "        # is set to minimization. It is also possible to use the maximize keyword.\n",
    "        self.costs = [{'name': 'f_1', 'criteria': 'minimize'},\n",
    "                      {'name': 'f_2', 'criteria': 'minimize'}]\n",
    "\n",
    "    def evaluate(self, individual):\n",
    "        # The individual.vector function contains the problem parameters in the appropriate (previously defined) order\n",
    "        f1 = individual.vector[0]\n",
    "        f2 = (1 + individual.vector[1]) / individual.vector[0]\n",
    "        # individual.auxvar = [1.]\n",
    "        return [f1, f2]"
   ]
  },
  {
   "cell_type": "code",
   "execution_count": 3,
   "metadata": {},
   "outputs": [
    {
     "name": "stderr",
     "output_type": "stream",
     "text": [
      "2020-11-25 11:06:18,807 (INFO): BiObjectiveTestProblem-793503 - run (146) - NSGA_II: 100/10000\n",
      "2020-11-25 11:06:22,884 (INFO): BiObjectiveTestProblem-793503 - run (173) - NSGA_II: elapsed time: 4.076584100723267 s\n"
     ]
    }
   ],
   "source": [
    "# Initialization of the problem\n",
    "problem = BiObjectiveTestProblem()\n",
    "\n",
    "# Perform the optimization iterating over 100 times on 100 individuals.\n",
    "algorithm = NSGAII(problem)\n",
    "algorithm.options['max_population_number'] = 100\n",
    "algorithm.options['max_population_size'] = 100\n",
    "algorithm.run()"
   ]
  },
  {
   "cell_type": "code",
   "execution_count": 4,
   "metadata": {},
   "outputs": [
    {
     "data": {
      "image/png": "[encoded data removed]",
      "text/plain": [
       "<Figure size 720x360 with 1 Axes>"
      ]
     },
     "metadata": {
      "needs_background": "light"
     },
     "output_type": "display_data"
    },
    {
     "data": {
      "image/png": "[encoded data removed]",
      "text/plain": [
       "<Figure size 432x288 with 1 Axes>"
      ]
     },
     "metadata": {
      "needs_background": "light"
     },
     "output_type": "display_data"
    }
   ],
   "source": [
    "# Post - processing the results\n",
    "# reads in the result values into the b, results class\n",
    "results = Results(problem)\n",
    "results.pareto_values()\n",
    "results.pareto_plot()\n",
    "\n",
    "# Convergence plot on a selected goal function and parameter\n",
    "slice = results.goal_on_parameter('x_2', 'f_2')\n",
    "import pylab as plt\n",
    "plt.plot(slice[0], slice[1])\n",
    "plt.show()"
   ]
  },
  {
   "cell_type": "markdown",
   "metadata": {},
   "source": [
    "Measure the quality of the solution with the aid of the built-in performace metrics\n",
    "We have to define a solution, which is a list of the [x, 1/x] tuples in the given area.\n",
    "The reference function can be defined by the following list comprehension:"
   ]
  },
  {
   "cell_type": "code",
   "execution_count": 5,
   "metadata": {},
   "outputs": [
    {
     "name": "stdout",
     "output_type": "stream",
     "text": [
      "Additive unary epsilon indicator: 0.799803873615679\n",
      "Generational distance: 0.026115014122268465\n"
     ]
    }
   ],
   "source": [
    "reference = [(0.1 + x * 4.9 / 1000, 1. / (0.1 + x * 4.9 / 1000)) for x in range(0, 1000)]\n",
    "print('Additive unary epsilon indicator:', results.performance_measure(reference))\n",
    "print('Generational distance:', results.performance_measure(reference, type='gd'))"
   ]
  },
  {
   "cell_type": "code",
   "execution_count": null,
   "metadata": {},
   "outputs": [],
   "source": []
  }
 ],
 "metadata": {
  "kernelspec": {
   "display_name": "Python 3",
   "language": "python",
   "name": "python3"
  },
  "language_info": {
   "codemirror_mode": {
    "name": "ipython",
    "version": 3
   },
   "file_extension": ".py",
   "mimetype": "text/x-python",
   "name": "python",
   "nbconvert_exporter": "python",
   "pygments_lexer": "ipython3",
   "version": "3.8.5"
  }
 },
 "nbformat": 4,
 "nbformat_minor": 4
}
